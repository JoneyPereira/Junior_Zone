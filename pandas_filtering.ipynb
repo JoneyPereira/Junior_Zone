{
 "cells": [
  {
   "cell_type": "code",
   "execution_count": 2,
   "metadata": {},
   "outputs": [],
   "source": [
    "import pandas as pd\n",
    "from datetime import datetime"
   ]
  },
  {
   "cell_type": "code",
   "execution_count": 4,
   "metadata": {},
   "outputs": [
    {
     "name": "stdout",
     "output_type": "stream",
     "text": [
      "2023-11-17\n"
     ]
    }
   ],
   "source": [
    "date = datetime.now().date()\n",
    "print(date)"
   ]
  },
  {
   "cell_type": "code",
   "execution_count": 6,
   "metadata": {},
   "outputs": [
    {
     "data": {
      "text/plain": [
       "Index(['job_id', 'published_date', 'title', 'description', 'career_page_name',\n",
       "       'type', 'application_deadline', 'is_remote_work', 'city', 'state',\n",
       "       'country', 'job_url', 'disabilities', 'workplace_type'],\n",
       "      dtype='object')"
      ]
     },
     "execution_count": 6,
     "metadata": {},
     "output_type": "execute_result"
    }
   ],
   "source": [
    "df = pd.read_csv(f\"{date}.csv\")\n",
    "df.columns"
   ]
  },
  {
   "cell_type": "code",
   "execution_count": 22,
   "metadata": {},
   "outputs": [],
   "source": [
    "# filter column is_remote_work == True and column title not contains \"python\"\n",
    "vagas_remotas = df[(df[\"is_remote_work\"] == True) & (~df[\"title\"].str.contains(\"Pleno\"))]\n"
   ]
  },
  {
   "cell_type": "code",
   "execution_count": 32,
   "metadata": {},
   "outputs": [
    {
     "name": "stdout",
     "output_type": "stream",
     "text": [
      "https://metodo.gupy.io/job/eyJqb2JJZCI6NjAwMDU4MSwic291cmNlIjoiZ3VweV9wb3J0YWwifQ==?jobBoardSource=gupy_portal\n"
     ]
    },
    {
     "data": {
      "text/plain": [
       "['Ensino superior completo em Arquitetura e Urbanismo',\n",
       " 'Desejável conhecimento em AutoCad e Revit',\n",
       " 'Necessário conhecimento em pacote office',\n",
       " 'Conhecimento em elaboração de Estudos de Viabilidade - EVL será considerado diferencial.']"
      ]
     },
     "execution_count": 32,
     "metadata": {},
     "output_type": "execute_result"
    }
   ],
   "source": [
    "import re\n",
    "# return first row of the dataframe\n",
    "description = vagas_remotas.iloc[0]['description']\n",
    "print(vagas_remotas.iloc[0]['job_url'])\n",
    "#split by 'requisitos' and 'qualificacoes' Requisitos e qualificações - Informações adicionais\n",
    "padrao = re.compile(r'Requisitos e qualificações(.*?)Informações adicionais', re.DOTALL)\n",
    "resultado = padrao.search(description)\n",
    "resultado.group(1).split(';')"
   ]
  }
 ],
 "metadata": {
  "kernelspec": {
   "display_name": "Python 3",
   "language": "python",
   "name": "python3"
  },
  "language_info": {
   "codemirror_mode": {
    "name": "ipython",
    "version": 3
   },
   "file_extension": ".py",
   "mimetype": "text/x-python",
   "name": "python",
   "nbconvert_exporter": "python",
   "pygments_lexer": "ipython3",
   "version": "3.11.6"
  }
 },
 "nbformat": 4,
 "nbformat_minor": 2
}
