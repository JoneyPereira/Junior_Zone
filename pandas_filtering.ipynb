{
 "cells": [
  {
   "cell_type": "code",
   "execution_count": 24,
   "metadata": {},
   "outputs": [
    {
     "name": "stdout",
     "output_type": "stream",
     "text": [
      "The dotenv extension is already loaded. To reload it, use:\n",
      "  %reload_ext dotenv\n"
     ]
    }
   ],
   "source": [
    "import pandas as pd\n",
    "from datetime import datetime\n",
    "import requests\n",
    "\n",
    "import os\n",
    "%load_ext dotenv\n",
    "token = str(os.getenv(\"TOKEN\"))"
   ]
  },
  {
   "cell_type": "code",
   "execution_count": 2,
   "metadata": {},
   "outputs": [
    {
     "name": "stdout",
     "output_type": "stream",
     "text": [
      "2023-11-17\n"
     ]
    }
   ],
   "source": [
    "date = datetime.now().date()\n",
    "print(date)"
   ]
  },
  {
   "cell_type": "code",
   "execution_count": 3,
   "metadata": {},
   "outputs": [
    {
     "data": {
      "text/plain": [
       "Index(['job_id', 'published_date', 'title', 'description', 'career_page_name',\n",
       "       'type', 'application_deadline', 'is_remote_work', 'city', 'state',\n",
       "       'country', 'job_url', 'disabilities', 'workplace_type'],\n",
       "      dtype='object')"
      ]
     },
     "execution_count": 3,
     "metadata": {},
     "output_type": "execute_result"
    }
   ],
   "source": [
    "df = pd.read_csv(f\"{date}.csv\")\n",
    "df.columns"
   ]
  },
  {
   "cell_type": "code",
   "execution_count": 13,
   "metadata": {},
   "outputs": [
    {
     "data": {
      "text/plain": [
       "12                               Analista de Permits Jr.\n",
       "48                   Analista de Inteligência de Mercado\n",
       "55                                     Analista de Dados\n",
       "59                Analista de Instalações Jr. (Elétrica)\n",
       "61                        Analista de Atendimento I (CX)\n",
       "72                    Analista de Instalações Jr. (HVAC)\n",
       "74                            Analista de Pré-vendas ll \n",
       "106                     Analista Administração Vendas Jr\n",
       "195                               Analista de Suporte Jr\n",
       "196              Analista de Inteligência de Negócios II\n",
       "197                        Analista Pedagógico - Júnior \n",
       "198                          Analista de Arquitetura Jr.\n",
       "207    Comercial B2C | Analista Comercial (Inside Sales)\n",
       "214                       Analista de Marketing - Júnior\n",
       "244    Analista Sistemas Junior l Exclusiva Profissio...\n",
       "249            Analista de Produto III Business Infantil\n",
       "256                     Analista de suporte de sistemas \n",
       "262                 Analista Produto III Inovação Gifts \n",
       "263                               Analista Fiscal Júnior\n",
       "286                Analista de Sistemas - Regional Minas\n",
       "Name: title, dtype: object"
      ]
     },
     "execution_count": 13,
     "metadata": {},
     "output_type": "execute_result"
    }
   ],
   "source": [
    "# filter column is_remote_work == True and column title not contains \"python\"\n",
    "vagas_remotas_filtradas = df[\n",
    "    (df[\"is_remote_work\"] == True)\n",
    "    & (~df[\"title\"].str.contains(\"Pleno\"))\n",
    "    & (~df[\"title\"].str.contains(\"Sênior\"))\n",
    "    & (~df[\"title\"].str.contains(\"SR\"))\n",
    "    & (~df[\"title\"].str.contains(\"PL\"))\n",
    "    & (~df[\"title\"].str.contains(\"Pl\"))\n",
    "]\n",
    "vagas_remotas_filtradas[\"title\"]"
   ]
  },
  {
   "cell_type": "code",
   "execution_count": 32,
   "metadata": {},
   "outputs": [
    {
     "name": "stdout",
     "output_type": "stream",
     "text": [
      "https://metodo.gupy.io/job/eyJqb2JJZCI6NjAwMDU4MSwic291cmNlIjoiZ3VweV9wb3J0YWwifQ==?jobBoardSource=gupy_portal\n"
     ]
    },
    {
     "data": {
      "text/plain": [
       "['Ensino superior completo em Arquitetura e Urbanismo',\n",
       " 'Desejável conhecimento em AutoCad e Revit',\n",
       " 'Necessário conhecimento em pacote office',\n",
       " 'Conhecimento em elaboração de Estudos de Viabilidade - EVL será considerado diferencial.']"
      ]
     },
     "execution_count": 32,
     "metadata": {},
     "output_type": "execute_result"
    }
   ],
   "source": [
    "# extração de requisitos\n",
    "import re\n",
    "# return first row of the dataframe\n",
    "description = vagas_remotas.iloc[0]['description']\n",
    "print(vagas_remotas.iloc[0]['job_url'])\n",
    "#split by 'requisitos' and 'qualificacoes' Requisitos e qualificações - Informações adicionais\n",
    "padrao = re.compile(r'Requisitos e qualificações(.*?)Informações adicionais', re.DOTALL)\n",
    "resultado = padrao.search(description)\n",
    "resultado.group(1).split(';')"
   ]
  },
  {
   "cell_type": "code",
   "execution_count": 72,
   "metadata": {},
   "outputs": [],
   "source": [
    "def filtro(texto):\n",
    "    return (\n",
    "        str(texto)\n",
    "        .replace(\".\", \"\\.\")\n",
    "        .replace(\"(\", \"\\(\")\n",
    "        .replace(\")\", \"\\)\")\n",
    "        .replace(\"|\", \"\\|\")\n",
    "        .replace(\"-\", \"\\-\")\n",
    "    )"
   ]
  },
  {
   "cell_type": "code",
   "execution_count": 73,
   "metadata": {},
   "outputs": [
    {
     "name": "stdout",
     "output_type": "stream",
     "text": [
      "Método Engenharia\n",
      "Analista de Permits Jr\\.\n",
      "[link](https://metodo.gupy.io/job/eyJqb2JJZCI6NjAwMDU4MSwic291cmNlIjoiZ3VweV9wb3J0YWwifQ==?jobBoardSource=gupy_portal)\n",
      "\n",
      "MJV Technology & Innovation\n",
      "Analista de Inteligência de Mercado\n",
      "[link](https://mjvcarreiras.gupy.io/job/eyJqb2JJZCI6NTk0MDMwNSwic291cmNlIjoiZ3VweV9wb3J0YWwifQ==?jobBoardSource=gupy_portal)\n",
      "\n",
      "Seazone\n",
      "Analista de Dados\n",
      "[link](https://seazonecareers.gupy.io/job/eyJqb2JJZCI6NTk5OTUzMywic291cmNlIjoiZ3VweV9wb3J0YWwifQ==?jobBoardSource=gupy_portal)\n",
      "\n",
      "Método Engenharia\n",
      "Analista de Instalações Jr\\. \\(Elétrica\\)\n",
      "[link](https://metodo.gupy.io/job/eyJqb2JJZCI6NTk5OTUzNSwic291cmNlIjoiZ3VweV9wb3J0YWwifQ==?jobBoardSource=gupy_portal)\n",
      "\n",
      "Fretadão\n",
      "Analista de Atendimento I \\(CX\\)\n",
      "[link](https://fretadao.gupy.io/job/eyJqb2JJZCI6NTk5ODEwMSwic291cmNlIjoiZ3VweV9wb3J0YWwifQ==?jobBoardSource=gupy_portal)\n",
      "\n",
      "Método Engenharia\n",
      "Analista de Instalações Jr\\. \\(HVAC\\)\n",
      "[link](https://metodo.gupy.io/job/eyJqb2JJZCI6NTk5OTI2MCwic291cmNlIjoiZ3VweV9wb3J0YWwifQ==?jobBoardSource=gupy_portal)\n",
      "\n",
      "Confidencial\n",
      "Analista de Pré\\-vendas ll \n",
      "[link](https://vagasconfidenciaisvagas.gupy.io/job/eyJqb2JJZCI6NTk5ODAxMywic291cmNlIjoiZ3VweV9wb3J0YWwifQ==?jobBoardSource=gupy_portal)\n",
      "\n",
      "Cibra\n",
      "Analista Administração Vendas Jr\n",
      "[link](https://cibra.gupy.io/job/eyJqb2JJZCI6NTk5ODYyOSwic291cmNlIjoiZ3VweV9wb3J0YWwifQ==?jobBoardSource=gupy_portal)\n",
      "\n",
      "Mobly\n",
      "Analista de Suporte Jr\n",
      "[link](https://mobly.gupy.io/job/eyJqb2JJZCI6NTk5NjU4OSwic291cmNlIjoiZ3VweV9wb3J0YWwifQ==?jobBoardSource=gupy_portal)\n",
      "\n",
      "frete\\.com\n",
      "Analista de Inteligência de Negócios II\n",
      "[link](https://fretecom.gupy.io/job/eyJqb2JJZCI6NTg1Mzc0Miwic291cmNlIjoiZ3VweV9wb3J0YWwifQ==?jobBoardSource=gupy_portal)\n",
      "\n",
      "Confidencial\n",
      "Analista Pedagógico \\- Júnior \n",
      "[link](https://sobconfidencialidade.gupy.io/job/eyJqb2JJZCI6NTk5NjU3Nywic291cmNlIjoiZ3VweV9wb3J0YWwifQ==?jobBoardSource=gupy_portal)\n",
      "\n",
      "Método Engenharia\n",
      "Analista de Arquitetura Jr\\.\n",
      "[link](https://metodo.gupy.io/job/eyJqb2JJZCI6NTkzODI5Nywic291cmNlIjoiZ3VweV9wb3J0YWwifQ==?jobBoardSource=gupy_portal)\n",
      "\n",
      "Fluency Academy\n",
      "Comercial B2C \\| Analista Comercial \\(Inside Sales\\)\n",
      "[link](https://fluencyacademy.gupy.io/job/eyJqb2JJZCI6NTk5NTkyMCwic291cmNlIjoiZ3VweV9wb3J0YWwifQ==?jobBoardSource=gupy_portal)\n",
      "\n",
      "Confidencial\n",
      "Analista de Marketing \\- Júnior\n",
      "[link](https://sobconfidencialidade.gupy.io/job/eyJqb2JJZCI6NTk5NjE1Mywic291cmNlIjoiZ3VweV9wb3J0YWwifQ==?jobBoardSource=gupy_portal)\n",
      "\n",
      "Vivo Diversidade\n",
      "Analista Sistemas Junior l Exclusiva Profissionais com Deficência \n",
      "[link](https://vivodiversidade.gupy.io/job/eyJqb2JJZCI6NTg5MzA2Nywic291cmNlIjoiZ3VweV9wb3J0YWwifQ==?jobBoardSource=gupy_portal)\n",
      "\n",
      "Grupo Boticário\n",
      "Analista de Produto III Business Infantil\n",
      "[link](https://grupoboticario.gupy.io/job/eyJqb2JJZCI6NTkyOTA3MSwic291cmNlIjoiZ3VweV9wb3J0YWwifQ==?jobBoardSource=gupy_portal)\n",
      "\n",
      "Stefanini Group\n",
      "Analista de suporte de sistemas \n",
      "[link](https://stefanini.gupy.io/job/eyJqb2JJZCI6NTk5NTQ3MSwic291cmNlIjoiZ3VweV9wb3J0YWwifQ==?jobBoardSource=gupy_portal)\n",
      "\n",
      "Grupo Boticário\n",
      "Analista Produto III Inovação Gifts \n",
      "[link](https://grupoboticario.gupy.io/job/eyJqb2JJZCI6NTg5ODQyNSwic291cmNlIjoiZ3VweV9wb3J0YWwifQ==?jobBoardSource=gupy_portal)\n",
      "\n",
      "b2finance\n",
      "Analista Fiscal Júnior\n",
      "[link](https://b2finance.gupy.io/job/eyJqb2JJZCI6NTk5NTIxOCwic291cmNlIjoiZ3VweV9wb3J0YWwifQ==?jobBoardSource=gupy_portal)\n",
      "\n",
      "Montreal & Tecnologia & Inovação\n",
      "Analista de Sistemas \\- Regional Minas\n",
      "[link](https://montreal.gupy.io/job/eyJqb2JJZCI6NTk5NDU2Miwic291cmNlIjoiZ3VweV9wb3J0YWwifQ==?jobBoardSource=gupy_portal)\n",
      "\n",
      "\n"
     ]
    }
   ],
   "source": [
    "# for loop in dataframe\n",
    "text = ''\n",
    "i = 0\n",
    "for _, vaga in vagas_remotas_filtradas.iterrows():\n",
    "    text += filtro(vaga['career_page_name']) + '\\n' + filtro(vaga['title']) + '\\n' + '[link](' + str(vaga['job_url']) + ')\\n\\n'\n",
    "    # i+=1\n",
    "    # if i == 5:\n",
    "    #     break\n",
    "    \n",
    "\n",
    "print(text)\n"
   ]
  },
  {
   "cell_type": "code",
   "execution_count": 83,
   "metadata": {},
   "outputs": [],
   "source": [
    "def send_message(token, chat_id, msg):\n",
    "    try:\n",
    "        data = {\n",
    "            \"chat_id\": chat_id,\n",
    "            \"text\": msg,\n",
    "            \"parse_mode\": \"MarkdownV2\",\n",
    "            \"disable_web_page_preview\": True,\n",
    "        }\n",
    "        url = \"https://api.telegram.org/bot{}/sendMessage\".format(token)\n",
    "        requests.post(url, data)\n",
    "    except Exception as e:\n",
    "        print(\"Erro no sendMessage:\", e)\n",
    "\n",
    "\n",
    "def send_photo(token, chat_id, photo):\n",
    "    try:\n",
    "        data = {\n",
    "            \"chat_id\": chat_id,\n",
    "            \"photo\": photo,\n",
    "        }\n",
    "        url = \"https://api.telegram.org/bot{}/sendPhoto\".format(token)\n",
    "        response = requests.post(url, data)\n",
    "\n",
    "        print(response.text)\n",
    "    except Exception as e:\n",
    "        print(\"Erro no sendPhoto:\", e)"
   ]
  },
  {
   "cell_type": "code",
   "execution_count": 81,
   "metadata": {},
   "outputs": [],
   "source": [
    "chat_id = '-1001984744184'\n",
    "text_it = '''\n",
    "Analista de Permits Jr.\n",
    "'''\n",
    "ttt=\"*This is the fir.st line*\\nSecond line\"\n",
    "# enviar a mensagem\n",
    "send_message(token, chat_id, text)"
   ]
  },
  {
   "cell_type": "code",
   "execution_count": 89,
   "metadata": {},
   "outputs": [
    {
     "data": {
      "text/plain": [
       "<Response [200]>"
      ]
     },
     "execution_count": 89,
     "metadata": {},
     "output_type": "execute_result"
    }
   ],
   "source": [
    "url = \"https://api.telegram.org/bot{}/sendPhoto\".format(token)\n",
    "\n",
    "def send_photo(chat_id, file_opened):\n",
    "    params = {'chat_id': chat_id}\n",
    "    files = {'photo': file_opened}\n",
    "    resp = requests.post(url, params, files=files)\n",
    "    return resp\n",
    "\n",
    "send_photo(chat_id, open('img_test.jpg', 'rb'))"
   ]
  }
 ],
 "metadata": {
  "kernelspec": {
   "display_name": "Python 3",
   "language": "python",
   "name": "python3"
  },
  "language_info": {
   "codemirror_mode": {
    "name": "ipython",
    "version": 3
   },
   "file_extension": ".py",
   "mimetype": "text/x-python",
   "name": "python",
   "nbconvert_exporter": "python",
   "pygments_lexer": "ipython3",
   "version": "3.11.6"
  }
 },
 "nbformat": 4,
 "nbformat_minor": 2
}
