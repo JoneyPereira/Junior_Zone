{
 "cells": [
  {
   "cell_type": "code",
   "execution_count": 20,
   "metadata": {},
   "outputs": [],
   "source": [
    "# importar biblioteca para requisições http\n",
    "import requests"
   ]
  },
  {
   "cell_type": "code",
   "execution_count": 45,
   "metadata": {},
   "outputs": [],
   "source": [
    "# enviar mensagens utilizando o bot para um chat específico\n",
    "def send_message(token, chat_id, msg):\n",
    "    try:\n",
    "        data = {\"chat_id\": chat_id, \"text\": msg, \"parse_mode\": \"MarkdownV2\"}\n",
    "        url = \"https://api.telegram.org/bot{}/sendMessage\".format(token)\n",
    "        requests.post(url, data)\n",
    "    except Exception as e:\n",
    "        print(\"Erro no sendMessage:\", e)"
   ]
  },
  {
   "cell_type": "code",
   "execution_count": 22,
   "metadata": {},
   "outputs": [],
   "source": [
    "#load .env TOKEN\n",
    "import os\n",
    "%reload_ext dotenv\n",
    "token = str(os.getenv(\"TOKEN\"))\n"
   ]
  },
  {
   "cell_type": "code",
   "execution_count": 48,
   "metadata": {},
   "outputs": [],
   "source": [
    "\n",
    "\n",
    "# exemplo de mensagem\n",
    "msg = '''\n",
    "*bold \\*text*\n",
    "_italic \\*text_\n",
    "__underline__\n",
    "~strikethrough~\n",
    "||spoiler||\n",
    "*bold _italic bold ~italic bold strikethrough ||italic bold strikethrough spoiler||~ __underline italic bold___ bold*\n",
    "[inline URL](http://www.example.com/)\n",
    "[inline mention of a user](tg://user?id=123456789)\n",
    "![👍](tg://emoji?id=5368324170671202286)\n",
    "`inline fixed-width code`\n",
    "```\n",
    "pre-formatted fixed-width code block\n",
    "```\n",
    "```python\n",
    "pre-formatted fixed-width code block written in the Python programming language\n",
    "```\n",
    "'''\n",
    "chat_id = '-1001984744184'\n",
    "\n",
    "# enviar a mensagem\n",
    "send_message(token, chat_id, msg)\n",
    "\n"
   ]
  }
 ],
 "metadata": {
  "kernelspec": {
   "display_name": "Python 3",
   "language": "python",
   "name": "python3"
  },
  "language_info": {
   "codemirror_mode": {
    "name": "ipython",
    "version": 3
   },
   "file_extension": ".py",
   "mimetype": "text/x-python",
   "name": "python",
   "nbconvert_exporter": "python",
   "pygments_lexer": "ipython3",
   "version": "3.11.6"
  }
 },
 "nbformat": 4,
 "nbformat_minor": 2
}
