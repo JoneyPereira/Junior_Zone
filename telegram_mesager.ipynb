{
 "cells": [
  {
   "cell_type": "code",
   "execution_count": 20,
   "metadata": {},
   "outputs": [],
   "source": [
    "# importar biblioteca para requisições http\n",
    "import requests"
   ]
  },
  {
   "cell_type": "code",
   "execution_count": 45,
   "metadata": {},
   "outputs": [],
   "source": [
    "# enviar mensagens utilizando o bot para um chat específico\n",
    "def send_message(token, chat_id, msg):\n",
    "    try:\n",
    "        data = {\"chat_id\": chat_id, \"text\": msg, \"parse_mode\": \"MarkdownV2\"}\n",
    "        url = \"https://api.telegram.org/bot{}/sendMessage\".format(token)\n",
    "        requests.post(url, data)\n",
    "    except Exception as e:\n",
    "        print(\"Erro no sendMessage:\", e)"
   ]
  },
  {
   "cell_type": "code",
   "execution_count": 22,
   "metadata": {},
   "outputs": [],
   "source": [
    "#load .env TOKEN\n",
    "import os\n",
    "%reload_ext dotenv\n",
    "token = str(os.getenv(\"TOKEN\"))\n"
   ]
  },
  {
   "cell_type": "code",
   "execution_count": 49,
   "metadata": {},
   "outputs": [],
   "source": [
    "\n",
    "\n",
    "# exemplo de mensagem\n",
    "msg = '''\n",
    "xxxx\n",
    "'''\n",
    "chat_id = '-1001984744184'\n",
    "\n",
    "# enviar a mensagem\n",
    "send_message(token, chat_id, msg)\n",
    "\n"
   ]
  },
  {
   "cell_type": "code",
   "execution_count": 50,
   "metadata": {},
   "outputs": [
    {
     "data": {
      "text/plain": [
       "<Response [200]>"
      ]
     },
     "execution_count": 50,
     "metadata": {},
     "output_type": "execute_result"
    }
   ],
   "source": [
    "#send photos\n",
    "url = \"https://api.telegram.org/bot{}/sendPhoto\".format(token)\n",
    "\n",
    "def send_photo(chat_id, file_opened):\n",
    "    params = {'chat_id': chat_id}\n",
    "    files = {'photo': file_opened}\n",
    "    resp = requests.post(url, params, files=files)\n",
    "    return resp\n",
    "\n",
    "send_photo(chat_id, open('img_test.jpg', 'rb'))"
   ]
  }
 ],
 "metadata": {
  "kernelspec": {
   "display_name": "Python 3",
   "language": "python",
   "name": "python3"
  },
  "language_info": {
   "codemirror_mode": {
    "name": "ipython",
    "version": 3
   },
   "file_extension": ".py",
   "mimetype": "text/x-python",
   "name": "python",
   "nbconvert_exporter": "python",
   "pygments_lexer": "ipython3",
   "version": "3.11.6"
  }
 },
 "nbformat": 4,
 "nbformat_minor": 2
}
